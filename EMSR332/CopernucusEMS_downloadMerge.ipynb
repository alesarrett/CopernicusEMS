{
 "cells": [
  {
   "cell_type": "markdown",
   "metadata": {
    "toc": true
   },
   "source": [
    "<h1>Table of Contents<span class=\"tocSkip\"></span></h1>\n",
    "<div class=\"toc\"><ul class=\"toc-item\"><li><span><a href=\"#Python-Web-scraping-for-CopernicusEMS-service\" data-toc-modified-id=\"Python-Web-scraping-for-CopernicusEMS-service-1\"><span class=\"toc-item-num\">1&nbsp;&nbsp;</span>Python Web scraping for CopernicusEMS service</a></span></li></ul></div>"
   ]
  },
  {
   "cell_type": "markdown",
   "metadata": {},
   "source": [
    "# Python Web scraping for CopernicusEMS service"
   ]
  },
  {
   "cell_type": "markdown",
   "metadata": {},
   "source": [
    "The goal of this document is to automatize the download of vector files provided from the CopernicusEMS services and their aggregation in a unique merged file.\n",
    "\n",
    "This procedure has to be followed if you upload merged files that you already created from CopernicusEMS."
   ]
  },
  {
   "cell_type": "markdown",
   "metadata": {},
   "source": [
    "Import Beautiful Soup"
   ]
  },
  {
   "cell_type": "code",
   "execution_count": 1,
   "metadata": {},
   "outputs": [],
   "source": [
    "from bs4 import BeautifulSoup as BS"
   ]
  },
  {
   "cell_type": "code",
   "execution_count": 2,
   "metadata": {},
   "outputs": [],
   "source": [
    "import urllib\n",
    "import urllib2"
   ]
  },
  {
   "cell_type": "code",
   "execution_count": 3,
   "metadata": {},
   "outputs": [],
   "source": [
    "import requests"
   ]
  },
  {
   "cell_type": "markdown",
   "metadata": {},
   "source": [
    "Set the base URL to the relevant CopernicusEMS component"
   ]
  },
  {
   "cell_type": "code",
   "execution_count": 4,
   "metadata": {},
   "outputs": [],
   "source": [
    "baseurl = \"http://emergency.copernicus.eu/mapping/list-of-components/EMSR332/\""
   ]
  },
  {
   "cell_type": "markdown",
   "metadata": {},
   "source": [
    "Create a soup object with the baseurl"
   ]
  },
  {
   "cell_type": "code",
   "execution_count": 5,
   "metadata": {},
   "outputs": [
    {
     "name": "stderr",
     "output_type": "stream",
     "text": [
      "/usr/lib/python2.7/dist-packages/bs4/__init__.py:166: UserWarning: No parser was explicitly specified, so I'm using the best available HTML parser for this system (\"lxml\"). This usually isn't a problem, but if you run this code on another system, or in a different virtual environment, it may use a different parser and behave differently.\n",
      "\n",
      "To get rid of this warning, change this:\n",
      "\n",
      " BeautifulSoup([your markup])\n",
      "\n",
      "to this:\n",
      "\n",
      " BeautifulSoup([your markup], \"lxml\")\n",
      "\n",
      "  markup_type=markup_type))\n"
     ]
    }
   ],
   "source": [
    "soup = BS(urllib2.urlopen(baseurl))"
   ]
  },
  {
   "cell_type": "markdown",
   "metadata": {},
   "source": [
    "Extract all links (using the \"< a >\" tags where the attribute \"href\" is valid)"
   ]
  },
  {
   "cell_type": "code",
   "execution_count": 6,
   "metadata": {},
   "outputs": [],
   "source": [
    "links = soup.findAll('a', href=True)"
   ]
  },
  {
   "cell_type": "markdown",
   "metadata": {},
   "source": [
    "Preparation for the operation of merging."
   ]
  },
  {
   "cell_type": "code",
   "execution_count": 7,
   "metadata": {},
   "outputs": [],
   "source": [
    "import os\n",
    "import zipfile\n",
    "import shutil\n",
    "import glob\n",
    "import shapefile\n",
    "\n",
    "###############################################################################\n",
    "\n",
    "folder_input_zip = \"./files/zipinput/\"\n",
    "folder_output_zip = \"./files/zipoutput/\"\n",
    "array_id = [\"_01\",\"_02\",\"_03\",\"_04\",\"_05\",\"_06\",\"_07\",\"_08\",\"_09\"]\n",
    "\n",
    "folder_input_shp = folder_output_zip\n",
    "folder_output_shp = \"./files/shapefiles/\"\n",
    "array_elements = ['observed_event']\n",
    "folder_input_merge = folder_output_shp\n",
    "folder_output_merge = \"./files/merged/\"\n",
    "\n",
    "##############################################################################"
   ]
  },
  {
   "cell_type": "markdown",
   "metadata": {},
   "source": [
    "Check and print which zipfiles are already stored in the \"./files/zipinput/\" directory"
   ]
  },
  {
   "cell_type": "code",
   "execution_count": 11,
   "metadata": {},
   "outputs": [
    {
     "data": {
      "text/plain": [
       "['EMSR332_01VERONA_01DELINEATION_MAP_v1_vector.zip',\n",
       " 'EMSR332_01VERONA_01DELINEATION_MONIT01_v1_vector.zip',\n",
       " 'EMSR332_02PADOVA_01DELINEATION_MAP_v1_vector.zip',\n",
       " 'EMSR332_02PADOVA_01DELINEATION_MONIT01_v1_vector.zip',\n",
       " 'EMSR332_03ROVERETO_01DELINEATION_MAP_v1_vector.zip',\n",
       " 'EMSR332_04BASSANODELGRAPPA_01DELINEATION_MAP_v1_vector.zip',\n",
       " 'EMSR332_04BASSANODELGRAPPA_01DELINEATION_MONIT01_v1_vector.zip',\n",
       " 'EMSR332_05TRENTO_01DELINEATION_MAP_v1_vector.zip',\n",
       " 'EMSR332_06FELTRE_01DELINEATION_MAP_v1_vector.zip',\n",
       " 'EMSR332_07CORTINEDAMPEZZO_01DELINEATION_MAP_v1_vector.zip',\n",
       " 'EMSR332_08PORDENONE_01DELINEATION_MAP_v1_vector.zip',\n",
       " 'EMSR332_08PORDENONE_01DELINEATION_MONIT01_v1_vector.zip',\n",
       " 'EMSR332_09VENEZIA_01DELINEATION_MAP_v1_vector.zip',\n",
       " 'EMSR332_09VENEZIA_01DELINEATION_MONIT01_v1_vector.zip']"
      ]
     },
     "execution_count": 11,
     "metadata": {},
     "output_type": "execute_result"
    }
   ],
   "source": [
    "zipfiles = glob.glob(\"./files/zipinput/*.zip\")\n",
    "zipnames = []\n",
    "for f in zipfiles:\n",
    "    f = f.split('/')[-1]\n",
    "    zipnames.append(f)\n",
    "zipnames.sort()\n",
    "zipnames\n",
    "#fname = zipurltot.split('/')[-1]"
   ]
  },
  {
   "cell_type": "markdown",
   "metadata": {},
   "source": [
    "Check if there are new files in the Copernicus activation and, if present, download them."
   ]
  },
  {
   "cell_type": "code",
   "execution_count": 12,
   "metadata": {},
   "outputs": [],
   "source": [
    "files_new = []\n",
    "for link in links:\n",
    "    zipurl = link['href']\n",
    "    if( zipurl.endswith('.zip') ):\n",
    "        zipurltot = 'http://emergency.copernicus.eu/' + zipurl\n",
    "        fname = zipurltot.split('/')[-1]\n",
    "        r = requests.get(zipurltot, stream=True)\n",
    "        if fname not in zipnames:\n",
    "            print fname\n",
    "            files_new.append(fname)\n",
    "            if( r.status_code == requests.codes.ok ):\n",
    "                ! curl -s -c cookie $zipurltot\n",
    "                ! curl -b -s cookie $zipurltot -H \"Origin: http://emergency.copernicus.eu\" -H \"Accept-Encoding: gzip, deflate\" -H \"Accept-Language: it-IT,it;q=0.8,en-US;q=0.6,en;q=0.4\" -H \"Upgrade-Insecure-Requests: 1\" -H \"User-Agent: Mozilla/5.0 (Windows NT 10.0; Win64; x64) AppleWebKit/537.36 (KHTML, like Gecko) Chrome/54.0.2840.71 Safari/537.36\" -H \"Content-Type: application/x-www-form-urlencoded\" -H \"Accept: text/html,application/xhtml+xml,application/xml;q=0.9,image/webp,*/*;q=0.8\" -H \"Cache-Control: max-age=0\" -H \"Referer: zipurltot\" -H \"Connection: keep-alive\" --data \"confirmation=1^&op=+Download+file+^&form_build_id=form-wfWtSFuhPbanIpxEiVM8LPHnvLF5LEOuakUYLcXkCeI^&form_id=emsmapping_disclaimer_download_form\" --compressed > ./files/zipinput/$fname"
   ]
  },
  {
   "cell_type": "markdown",
   "metadata": {},
   "source": [
    "List newly downloaded files (if any)"
   ]
  },
  {
   "cell_type": "code",
   "execution_count": 13,
   "metadata": {
    "scrolled": true
   },
   "outputs": [
    {
     "data": {
      "text/plain": [
       "[]"
      ]
     },
     "execution_count": 13,
     "metadata": {},
     "output_type": "execute_result"
    }
   ],
   "source": [
    "files_new"
   ]
  },
  {
   "cell_type": "code",
   "execution_count": null,
   "metadata": {},
   "outputs": [],
   "source": [
    "def extract_zipped_files (file_name):\n",
    "    #pass\n",
    "    print file_name\n",
    "    file_name_in=folder_input_zip+file_name\n",
    "    with zipfile.ZipFile(file_name_in, \"r\") as z:\n",
    "        z.extractall(folder_output_zip)\n",
    "\n",
    "def clean_folder ():\n",
    "    #pass\n",
    "    folder_del = folder_output_zip + \"*.*\"\n",
    "    files = sorted(glob.glob(folder_del))\n",
    "    for f in files:\n",
    "        os.remove(f)\n",
    "    for element in array_elements:\n",
    "        folder_del = folder_output_shp + element + \"/*.*\"\n",
    "        files = sorted(glob.glob(folder_del))\n",
    "        for f in files:\n",
    "            os.remove(f)\n",
    "    for element in array_elements:\n",
    "        folder_del = folder_output_merge + element + \"_merged.*\"\n",
    "        files = sorted(glob.glob(folder_del))\n",
    "        for f in files:\n",
    "            os.remove(f)\n",
    "\n",
    "\n",
    "clean_folder()\n",
    "#exit()"
   ]
  },
  {
   "cell_type": "markdown",
   "metadata": {},
   "source": [
    "Extract files from zip and copy into a new folder."
   ]
  },
  {
   "cell_type": "code",
   "execution_count": null,
   "metadata": {},
   "outputs": [],
   "source": [
    "for file in sorted(os.listdir(folder_input_zip)):\n",
    "    for id in array_id:\n",
    "        if id in file:\n",
    "            if file.endswith(\".zip\"):\n",
    "                extract_zipped_files(file)"
   ]
  },
  {
   "cell_type": "markdown",
   "metadata": {},
   "source": [
    "Sometimes there are zip files containing a folder named \"VECTOR\" so that shapefiles are one level below. The following code moves the files inside the VECTOR folder back to the \"zipoutput\" folder."
   ]
  },
  {
   "cell_type": "code",
   "execution_count": null,
   "metadata": {},
   "outputs": [],
   "source": [
    "for folder in os.walk('./files/zipoutput/').next()[1]:\n",
    "    if folder == \"VECTOR\":\n",
    "        print \"VECTOR\"\n",
    "        vector = \"./files/zipoutput/VECTOR/\" + \"*.*\"\n",
    "        back = \"./files/zipoutput/\"\n",
    "        files = sorted(glob.glob(vector))\n",
    "        for f in files:\n",
    "            shutil.move(f,back)\n",
    "        !rmdir \"./files/zipoutput/VECTOR\""
   ]
  },
  {
   "cell_type": "markdown",
   "metadata": {},
   "source": [
    "Move files in aggregated folders per type of shapefile."
   ]
  },
  {
   "cell_type": "code",
   "execution_count": null,
   "metadata": {},
   "outputs": [],
   "source": [
    "for file in sorted(os.listdir(folder_input_shp)):\n",
    "    for element in array_elements:\n",
    "        if element in file:\n",
    "            file_move_name_in = folder_input_shp + file\n",
    "            file_move_name_out = folder_output_shp + element + \"/\" + file\n",
    "            shutil.move(file_move_name_in,file_move_name_out)"
   ]
  },
  {
   "cell_type": "markdown",
   "metadata": {},
   "source": [
    "Merge"
   ]
  },
  {
   "cell_type": "code",
   "execution_count": null,
   "metadata": {},
   "outputs": [],
   "source": [
    "for category in array_elements:\n",
    "    folder_input_in = folder_input_merge + category + '/*.shp'\n",
    "    folder_input_out = folder_output_merge + category + '_merged.shp'\n",
    "    files = sorted(glob.glob(folder_input_in))\n",
    "    w = shapefile.Writer()\n",
    "    for f in files:\n",
    "        r = shapefile.Reader(f)\n",
    "        w._shapes.extend(r.shapes())\n",
    "        w.records.extend(r.records())\n",
    "        w.fields = list(r.fields)\n",
    "    w.save(folder_input_out)\n",
    "    folder_input_in = folder_input_merge + category + '/*.prj'\n",
    "    folder_input_out = folder_output_merge + category + '_merged.prj'\n",
    "    files = sorted(glob.glob(folder_input_in))\n",
    "    for f in files:\n",
    "        shutil.copy(f,folder_input_out)\n",
    "        break\n",
    "\n",
    "print \"Finito !\""
   ]
  },
  {
   "cell_type": "code",
   "execution_count": null,
   "metadata": {},
   "outputs": [],
   "source": []
  }
 ],
 "metadata": {
  "kernelspec": {
   "display_name": "Python 2",
   "language": "python",
   "name": "python2"
  },
  "language_info": {
   "codemirror_mode": {
    "name": "ipython",
    "version": 2
   },
   "file_extension": ".py",
   "mimetype": "text/x-python",
   "name": "python",
   "nbconvert_exporter": "python",
   "pygments_lexer": "ipython2",
   "version": "2.7.12"
  },
  "toc": {
   "base_numbering": 1,
   "nav_menu": {},
   "number_sections": true,
   "sideBar": true,
   "skip_h1_title": false,
   "title_cell": "Table of Contents",
   "title_sidebar": "Contents",
   "toc_cell": true,
   "toc_position": {},
   "toc_section_display": true,
   "toc_window_display": false
  }
 },
 "nbformat": 4,
 "nbformat_minor": 2
}
